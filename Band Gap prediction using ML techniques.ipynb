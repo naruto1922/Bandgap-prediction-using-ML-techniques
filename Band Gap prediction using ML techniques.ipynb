{
 "cells": [
  {
   "cell_type": "markdown",
   "id": "7ab75c45",
   "metadata": {},
   "source": [
    "# Group Project\n",
    "## Group G-9\n",
    "### Vinay Bendale 20118103\n",
    "### Prateek Chauhan 20118060\n",
    "### Rohit Malawat 20118069"
   ]
  },
  {
   "cell_type": "code",
   "execution_count": 1,
   "id": "4ca7cc68",
   "metadata": {},
   "outputs": [],
   "source": [
    "import numpy as np\n",
    "import pandas as pd\n",
    "import matplotlib.pyplot as plt\n",
    "from sklearn.model_selection import train_test_split\n",
    "from sklearn.linear_model import LinearRegression,  Lasso, Ridge\n",
    "from sklearn.ensemble import RandomForestRegressor, GradientBoostingRegressor\n",
    "from CBFV.composition import generate_features\n",
    "from sklearn.metrics import r2_score, mean_absolute_error, mean_squared_error\n",
    "from sklearn.svm import SVR\n",
    "from sklearn.preprocessing import StandardScaler\n",
    "import pymatgen as mp\n",
    "from pymatgen.ext.matproj import MPRester,Element\n",
    "import seaborn as sns"
   ]
  },
  {
   "cell_type": "code",
   "execution_count": 2,
   "id": "bbae08b0",
   "metadata": {},
   "outputs": [],
   "source": [
    "mpr = MPRester(\"LiMBtzcH1cD5PCTB\")"
   ]
  },
  {
   "cell_type": "markdown",
   "id": "0095577c",
   "metadata": {},
   "source": [
    "### Getting Dataset"
   ]
  },
  {
   "cell_type": "code",
   "execution_count": 3,
   "id": "77346a1e",
   "metadata": {},
   "outputs": [
    {
     "data": {
      "application/vnd.jupyter.widget-view+json": {
       "model_id": "9ea5cde79bc44dd5ad11de4231448063",
       "version_major": 2,
       "version_minor": 0
      },
      "text/plain": [
       "  0%|          | 0/126335 [00:00<?, ?it/s]"
      ]
     },
     "metadata": {},
     "output_type": "display_data"
    },
    {
     "data": {
      "text/html": [
       "<div>\n",
       "<style scoped>\n",
       "    .dataframe tbody tr th:only-of-type {\n",
       "        vertical-align: middle;\n",
       "    }\n",
       "\n",
       "    .dataframe tbody tr th {\n",
       "        vertical-align: top;\n",
       "    }\n",
       "\n",
       "    .dataframe thead th {\n",
       "        text-align: right;\n",
       "    }\n",
       "</style>\n",
       "<table border=\"1\" class=\"dataframe\">\n",
       "  <thead>\n",
       "    <tr style=\"text-align: right;\">\n",
       "      <th></th>\n",
       "      <th>pretty_formula</th>\n",
       "      <th>band_gap</th>\n",
       "    </tr>\n",
       "  </thead>\n",
       "  <tbody>\n",
       "    <tr>\n",
       "      <th>0</th>\n",
       "      <td>ZrB6</td>\n",
       "      <td>0.0000</td>\n",
       "    </tr>\n",
       "    <tr>\n",
       "      <th>1</th>\n",
       "      <td>SiC</td>\n",
       "      <td>0.0000</td>\n",
       "    </tr>\n",
       "    <tr>\n",
       "      <th>2</th>\n",
       "      <td>HPbI3</td>\n",
       "      <td>0.0000</td>\n",
       "    </tr>\n",
       "    <tr>\n",
       "      <th>3</th>\n",
       "      <td>BrCl</td>\n",
       "      <td>1.8278</td>\n",
       "    </tr>\n",
       "    <tr>\n",
       "      <th>4</th>\n",
       "      <td>EuFeO3</td>\n",
       "      <td>0.0000</td>\n",
       "    </tr>\n",
       "  </tbody>\n",
       "</table>\n",
       "</div>"
      ],
      "text/plain": [
       "  pretty_formula  band_gap\n",
       "0           ZrB6    0.0000\n",
       "1            SiC    0.0000\n",
       "2          HPbI3    0.0000\n",
       "3           BrCl    1.8278\n",
       "4         EuFeO3    0.0000"
      ]
     },
     "execution_count": 3,
     "metadata": {},
     "output_type": "execute_result"
    }
   ],
   "source": [
    "data = mpr.query({'band_gap': {'$exists': True}}, ['pretty_formula','band_gap'])\n",
    "df = pd.DataFrame(data)\n",
    "df.head()"
   ]
  },
  {
   "cell_type": "code",
   "execution_count": 4,
   "id": "8f54453d",
   "metadata": {},
   "outputs": [
    {
     "data": {
      "text/html": [
       "<div>\n",
       "<style scoped>\n",
       "    .dataframe tbody tr th:only-of-type {\n",
       "        vertical-align: middle;\n",
       "    }\n",
       "\n",
       "    .dataframe tbody tr th {\n",
       "        vertical-align: top;\n",
       "    }\n",
       "\n",
       "    .dataframe thead th {\n",
       "        text-align: right;\n",
       "    }\n",
       "</style>\n",
       "<table border=\"1\" class=\"dataframe\">\n",
       "  <thead>\n",
       "    <tr style=\"text-align: right;\">\n",
       "      <th></th>\n",
       "      <th>band_gap</th>\n",
       "    </tr>\n",
       "  </thead>\n",
       "  <tbody>\n",
       "    <tr>\n",
       "      <th>count</th>\n",
       "      <td>126335.000000</td>\n",
       "    </tr>\n",
       "    <tr>\n",
       "      <th>mean</th>\n",
       "      <td>1.056167</td>\n",
       "    </tr>\n",
       "    <tr>\n",
       "      <th>std</th>\n",
       "      <td>1.526405</td>\n",
       "    </tr>\n",
       "    <tr>\n",
       "      <th>min</th>\n",
       "      <td>0.000000</td>\n",
       "    </tr>\n",
       "    <tr>\n",
       "      <th>25%</th>\n",
       "      <td>0.000000</td>\n",
       "    </tr>\n",
       "    <tr>\n",
       "      <th>50%</th>\n",
       "      <td>0.041600</td>\n",
       "    </tr>\n",
       "    <tr>\n",
       "      <th>75%</th>\n",
       "      <td>1.857750</td>\n",
       "    </tr>\n",
       "    <tr>\n",
       "      <th>max</th>\n",
       "      <td>17.902300</td>\n",
       "    </tr>\n",
       "  </tbody>\n",
       "</table>\n",
       "</div>"
      ],
      "text/plain": [
       "            band_gap\n",
       "count  126335.000000\n",
       "mean        1.056167\n",
       "std         1.526405\n",
       "min         0.000000\n",
       "25%         0.000000\n",
       "50%         0.041600\n",
       "75%         1.857750\n",
       "max        17.902300"
      ]
     },
     "execution_count": 4,
     "metadata": {},
     "output_type": "execute_result"
    }
   ],
   "source": [
    "df.describe()"
   ]
  },
  {
   "cell_type": "markdown",
   "id": "df68857d",
   "metadata": {},
   "source": [
    "### Generating Features"
   ]
  },
  {
   "cell_type": "code",
   "execution_count": 5,
   "id": "a777cad6",
   "metadata": {},
   "outputs": [
    {
     "data": {
      "text/html": [
       "<div>\n",
       "<style scoped>\n",
       "    .dataframe tbody tr th:only-of-type {\n",
       "        vertical-align: middle;\n",
       "    }\n",
       "\n",
       "    .dataframe tbody tr th {\n",
       "        vertical-align: top;\n",
       "    }\n",
       "\n",
       "    .dataframe thead th {\n",
       "        text-align: right;\n",
       "    }\n",
       "</style>\n",
       "<table border=\"1\" class=\"dataframe\">\n",
       "  <thead>\n",
       "    <tr style=\"text-align: right;\">\n",
       "      <th></th>\n",
       "      <th>formula</th>\n",
       "      <th>target</th>\n",
       "    </tr>\n",
       "  </thead>\n",
       "  <tbody>\n",
       "    <tr>\n",
       "      <th>0</th>\n",
       "      <td>ZrB6</td>\n",
       "      <td>0.0000</td>\n",
       "    </tr>\n",
       "    <tr>\n",
       "      <th>1</th>\n",
       "      <td>SiC</td>\n",
       "      <td>0.0000</td>\n",
       "    </tr>\n",
       "    <tr>\n",
       "      <th>2</th>\n",
       "      <td>HPbI3</td>\n",
       "      <td>0.0000</td>\n",
       "    </tr>\n",
       "    <tr>\n",
       "      <th>3</th>\n",
       "      <td>BrCl</td>\n",
       "      <td>1.8278</td>\n",
       "    </tr>\n",
       "    <tr>\n",
       "      <th>4</th>\n",
       "      <td>EuFeO3</td>\n",
       "      <td>0.0000</td>\n",
       "    </tr>\n",
       "  </tbody>\n",
       "</table>\n",
       "</div>"
      ],
      "text/plain": [
       "  formula  target\n",
       "0    ZrB6  0.0000\n",
       "1     SiC  0.0000\n",
       "2   HPbI3  0.0000\n",
       "3    BrCl  1.8278\n",
       "4  EuFeO3  0.0000"
      ]
     },
     "execution_count": 5,
     "metadata": {},
     "output_type": "execute_result"
    }
   ],
   "source": [
    "rename = {'pretty_formula': 'formula', 'band_gap':'target'}\n",
    "df = df.rename(columns = rename)\n",
    "df.head()"
   ]
  },
  {
   "cell_type": "code",
   "execution_count": 6,
   "id": "f669b962",
   "metadata": {},
   "outputs": [
    {
     "name": "stdout",
     "output_type": "stream",
     "text": [
      "Duplicate formula(e) removed using default pandas function\n"
     ]
    },
    {
     "name": "stderr",
     "output_type": "stream",
     "text": [
      "\n",
      "Processing Input Data:   0%|                                                                 | 0/89444 [00:00<?, ?it/s]\u001b[A\n",
      "Processing Input Data:   1%|▌                                                    | 932/89444 [00:00<00:10, 8740.09it/s]\u001b[A\n",
      "Processing Input Data:   2%|█                                                   | 1912/89444 [00:00<00:09, 9337.96it/s]\u001b[A\n",
      "Processing Input Data:   3%|█▋                                                  | 2848/89444 [00:00<00:09, 9309.86it/s]\u001b[A\n",
      "Processing Input Data:   4%|██▏                                                 | 3787/89444 [00:00<00:09, 9114.21it/s]\u001b[A\n",
      "Processing Input Data:   5%|██▊                                                 | 4882/89444 [00:00<00:08, 9439.31it/s]\u001b[A\n",
      "Processing Input Data:   7%|███▍                                                | 5933/89444 [00:00<00:08, 9616.98it/s]\u001b[A\n",
      "Processing Input Data:   8%|████                                                | 7027/89444 [00:00<00:08, 9712.59it/s]\u001b[A\n",
      "Processing Input Data:   9%|████▋                                               | 7998/89444 [00:00<00:08, 9670.86it/s]\u001b[A\n",
      "Processing Input Data:  10%|█████▏                                              | 8988/89444 [00:00<00:08, 9732.00it/s]\u001b[A\n",
      "Processing Input Data:  11%|█████▊                                              | 9980/89444 [00:01<00:08, 9694.79it/s]\u001b[A\n",
      "Processing Input Data:  12%|██████▎                                            | 11038/89444 [00:01<00:07, 9875.58it/s]\u001b[A\n",
      "Processing Input Data:  13%|██████▊                                            | 12026/89444 [00:01<00:07, 9851.76it/s]\u001b[A\n",
      "Processing Input Data:  15%|███████▍                                           | 13132/89444 [00:01<00:07, 9763.37it/s]\u001b[A\n",
      "Processing Input Data:  16%|████████▏                                          | 14251/89444 [00:01<00:07, 9831.45it/s]\u001b[A\n",
      "Processing Input Data:  17%|████████▋                                          | 15310/89444 [00:01<00:07, 9646.52it/s]\u001b[A\n",
      "Processing Input Data:  18%|█████████▎                                         | 16440/89444 [00:01<00:07, 9917.80it/s]\u001b[A\n",
      "Processing Input Data:  20%|█████████▊                                        | 17572/89444 [00:01<00:07, 10129.57it/s]\u001b[A\n",
      "Processing Input Data:  21%|██████████▌                                        | 18587/89444 [00:02<00:09, 7549.08it/s]\u001b[A\n",
      "Processing Input Data:  22%|███████████▏                                       | 19562/89444 [00:02<00:08, 7915.98it/s]\u001b[A\n",
      "Processing Input Data:  23%|███████████▊                                       | 20662/89444 [00:02<00:08, 8538.59it/s]\u001b[A\n",
      "Processing Input Data:  24%|████████████▎                                      | 21661/89444 [00:02<00:07, 8767.00it/s]\u001b[A\n",
      "Processing Input Data:  25%|████████████▉                                      | 22757/89444 [00:02<00:07, 9008.01it/s]\u001b[A\n",
      "Processing Input Data:  27%|█████████████▌                                     | 23848/89444 [00:02<00:07, 9177.55it/s]\u001b[A\n",
      "Processing Input Data:  28%|██████████████▏                                    | 24855/89444 [00:02<00:06, 9248.98it/s]\u001b[A\n",
      "Processing Input Data:  29%|██████████████▊                                    | 25873/89444 [00:02<00:06, 9496.19it/s]\u001b[A\n",
      "Processing Input Data:  30%|███████████████▎                                   | 26837/89444 [00:02<00:06, 9531.83it/s]\u001b[A\n",
      "Processing Input Data:  31%|███████████████▉                                   | 27871/89444 [00:02<00:06, 9511.57it/s]\u001b[A\n",
      "Processing Input Data:  32%|████████████████▍                                  | 28903/89444 [00:03<00:06, 9645.51it/s]\u001b[A\n",
      "Processing Input Data:  33%|█████████████████                                  | 29896/89444 [00:03<00:06, 9651.64it/s]\u001b[A\n",
      "Processing Input Data:  35%|█████████████████▌                                 | 30865/89444 [00:03<00:06, 9274.03it/s]\u001b[A\n",
      "Processing Input Data:  36%|██████████████████▏                                | 31904/89444 [00:03<00:06, 9396.62it/s]\u001b[A\n",
      "Processing Input Data:  37%|██████████████████▍                               | 33073/89444 [00:03<00:05, 10038.71it/s]\u001b[A\n",
      "Processing Input Data:  38%|███████████████████                               | 34193/89444 [00:03<00:05, 10085.93it/s]\u001b[A\n",
      "Processing Input Data:  39%|███████████████████▋                              | 35212/89444 [00:03<00:05, 10022.14it/s]\u001b[A\n",
      "Processing Input Data:  41%|████████████████████▋                              | 36275/89444 [00:03<00:05, 9953.64it/s]\u001b[A\n",
      "Processing Input Data:  42%|█████████████████████▎                             | 37273/89444 [00:03<00:05, 9924.42it/s]\u001b[A\n",
      "Processing Input Data:  43%|█████████████████████▊                             | 38294/89444 [00:04<00:05, 9996.63it/s]\u001b[A\n",
      "Processing Input Data:  44%|█████████████████████▉                            | 39335/89444 [00:04<00:04, 10102.87it/s]\u001b[A\n",
      "Processing Input Data:  45%|███████████████████████                            | 40357/89444 [00:04<00:04, 9994.30it/s]\u001b[A\n",
      "Processing Input Data:  46%|███████████████████████▋                           | 41457/89444 [00:04<00:04, 9887.36it/s]\u001b[A\n",
      "Processing Input Data:  47%|████████████████████████▏                          | 42448/89444 [00:04<00:04, 9786.88it/s]\u001b[A\n",
      "Processing Input Data:  49%|████████████████████████▊                          | 43501/89444 [00:04<00:04, 9755.90it/s]\u001b[A\n",
      "Processing Input Data:  50%|█████████████████████████▎                         | 44478/89444 [00:04<00:04, 9529.30it/s]\u001b[A\n",
      "Processing Input Data:  51%|█████████████████████████▉                         | 45453/89444 [00:04<00:04, 9407.65it/s]\u001b[A\n",
      "Processing Input Data:  52%|██████████████████████████▌                        | 46488/89444 [00:04<00:04, 9518.85it/s]\u001b[A\n",
      "Processing Input Data:  53%|███████████████████████████▏                       | 47631/89444 [00:05<00:04, 9671.75it/s]\u001b[A\n",
      "Processing Input Data:  54%|███████████████████████████▋                       | 48598/89444 [00:05<00:06, 6790.86it/s]\u001b[A\n",
      "Processing Input Data:  55%|████████████████████████████▎                      | 49619/89444 [00:05<00:05, 7310.59it/s]\u001b[A\n",
      "Processing Input Data:  57%|████████████████████████████▉                      | 50654/89444 [00:05<00:05, 7743.76it/s]\u001b[A\n",
      "Processing Input Data:  58%|█████████████████████████████▍                     | 51612/89444 [00:05<00:04, 8082.84it/s]\u001b[A\n",
      "Processing Input Data:  59%|██████████████████████████████                     | 52635/89444 [00:05<00:04, 8563.95it/s]\u001b[A\n",
      "Processing Input Data:  60%|██████████████████████████████▋                    | 53732/89444 [00:05<00:04, 8888.66it/s]\u001b[A\n",
      "Processing Input Data:  61%|███████████████████████████████▏                   | 54741/89444 [00:05<00:03, 9138.00it/s]\u001b[A\n",
      "Processing Input Data:  62%|███████████████████████████████▊                   | 55726/89444 [00:06<00:03, 9090.22it/s]\u001b[A\n",
      "Processing Input Data:  63%|████████████████████████████████▎                  | 56653/89444 [00:06<00:03, 9131.21it/s]\u001b[A\n",
      "Processing Input Data:  64%|████████████████████████████████▊                  | 57598/89444 [00:06<00:03, 9201.67it/s]\u001b[A\n",
      "Processing Input Data:  65%|█████████████████████████████████▎                 | 58528/89444 [00:06<00:03, 9211.66it/s]\u001b[A\n",
      "Processing Input Data:  67%|█████████████████████████████████▉                 | 59614/89444 [00:06<00:03, 9282.73it/s]\u001b[A\n",
      "Processing Input Data:  68%|██████████████████████████████████▌                | 60580/89444 [00:06<00:03, 9274.84it/s]\u001b[A\n",
      "Processing Input Data:  69%|███████████████████████████████████                | 61546/89444 [00:06<00:03, 9247.36it/s]\u001b[A\n",
      "Processing Input Data:  70%|███████████████████████████████████▌               | 62473/89444 [00:06<00:02, 9176.22it/s]\u001b[A\n",
      "Processing Input Data:  71%|████████████████████████████████████▏              | 63392/89444 [00:06<00:02, 8964.04it/s]\u001b[A\n",
      "Processing Input Data:  72%|████████████████████████████████████▋              | 64290/89444 [00:06<00:02, 8916.32it/s]\u001b[A\n",
      "Processing Input Data:  73%|█████████████████████████████████████▏             | 65184/89444 [00:07<00:02, 8921.66it/s]\u001b[A\n",
      "Processing Input Data:  74%|█████████████████████████████████████▊             | 66269/89444 [00:07<00:02, 9155.71it/s]\u001b[A\n",
      "Processing Input Data:  75%|██████████████████████████████████████▎            | 67184/89444 [00:07<00:02, 9027.97it/s]\u001b[A\n",
      "Processing Input Data:  76%|██████████████████████████████████████▉            | 68197/89444 [00:07<00:02, 9270.35it/s]\u001b[A\n",
      "Processing Input Data:  77%|███████████████████████████████████████▍           | 69271/89444 [00:07<00:02, 9314.85it/s]\u001b[A\n",
      "Processing Input Data:  79%|████████████████████████████████████████           | 70226/89444 [00:07<00:02, 9332.99it/s]\u001b[A\n",
      "Processing Input Data:  80%|████████████████████████████████████████▋          | 71295/89444 [00:07<00:01, 9471.73it/s]\u001b[A\n",
      "Processing Input Data:  81%|█████████████████████████████████████████▏         | 72278/89444 [00:07<00:01, 9565.62it/s]\u001b[A\n",
      "Processing Input Data:  82%|█████████████████████████████████████████▊         | 73245/89444 [00:07<00:01, 9526.90it/s]\u001b[A\n",
      "Processing Input Data:  83%|██████████████████████████████████████████▎        | 74218/89444 [00:08<00:01, 9545.47it/s]\u001b[A\n",
      "Processing Input Data:  84%|██████████████████████████████████████████▉        | 75312/89444 [00:08<00:01, 9662.20it/s]\u001b[A\n",
      "Processing Input Data:  85%|███████████████████████████████████████████▍       | 76283/89444 [00:08<00:01, 9619.28it/s]\u001b[A\n",
      "Processing Input Data:  86%|████████████████████████████████████████████       | 77269/89444 [00:08<00:01, 9477.72it/s]\u001b[A\n",
      "Processing Input Data:  87%|████████████████████████████████████████████▌      | 78217/89444 [00:08<00:01, 6433.12it/s]\u001b[A\n",
      "Processing Input Data:  89%|█████████████████████████████████████████████▏     | 79222/89444 [00:08<00:01, 7082.29it/s]\u001b[A\n",
      "Processing Input Data:  90%|█████████████████████████████████████████████▋     | 80155/89444 [00:08<00:01, 7603.11it/s]\u001b[A\n",
      "Processing Input Data:  91%|██████████████████████████████████████████████▏    | 81025/89444 [00:08<00:01, 7876.84it/s]\u001b[A\n",
      "Processing Input Data:  92%|██████████████████████████████████████████████▊    | 82044/89444 [00:09<00:00, 8425.09it/s]\u001b[A\n",
      "Processing Input Data:  93%|███████████████████████████████████████████████▍   | 83089/89444 [00:09<00:00, 8788.18it/s]\u001b[A\n",
      "Processing Input Data:  94%|███████████████████████████████████████████████▉   | 84152/89444 [00:09<00:00, 9082.01it/s]\u001b[A\n",
      "Processing Input Data:  95%|████████████████████████████████████████████████▌  | 85089/89444 [00:09<00:00, 9118.95it/s]\u001b[A\n",
      "Processing Input Data:  96%|█████████████████████████████████████████████████  | 86057/89444 [00:09<00:00, 9156.84it/s]\u001b[A\n",
      "Processing Input Data:  97%|█████████████████████████████████████████████████▋ | 87154/89444 [00:09<00:00, 9360.36it/s]\u001b[A\n",
      "Processing Input Data:  99%|██████████████████████████████████████████████████▎| 88186/89444 [00:09<00:00, 9470.71it/s]\u001b[A\n",
      "Processing Input Data: 100%|███████████████████████████████████████████████████| 89444/89444 [00:09<00:00, 9144.05it/s]\u001b[A\n"
     ]
    },
    {
     "name": "stdout",
     "output_type": "stream",
     "text": [
      "\tFeaturizing Compositions...\n"
     ]
    },
    {
     "name": "stderr",
     "output_type": "stream",
     "text": [
      "Assigning Features...: 100%|███████████████████████████████████████████████████| 89444/89444 [00:15<00:00, 5853.17it/s]\n"
     ]
    },
    {
     "name": "stdout",
     "output_type": "stream",
     "text": [
      "\n",
      "NOTE: Your data contains formula with exotic elements. These were skipped.\n",
      "\tCreating Pandas Objects...\n"
     ]
    }
   ],
   "source": [
    "X, y,formulae ,skipped = generate_features(df, elem_prop = 'oliynyk',drop_duplicates = True)"
   ]
  },
  {
   "cell_type": "code",
   "execution_count": 8,
   "id": "26af0f90",
   "metadata": {},
   "outputs": [
    {
     "data": {
      "text/html": [
       "<div>\n",
       "<style scoped>\n",
       "    .dataframe tbody tr th:only-of-type {\n",
       "        vertical-align: middle;\n",
       "    }\n",
       "\n",
       "    .dataframe tbody tr th {\n",
       "        vertical-align: top;\n",
       "    }\n",
       "\n",
       "    .dataframe thead th {\n",
       "        text-align: right;\n",
       "    }\n",
       "</style>\n",
       "<table border=\"1\" class=\"dataframe\">\n",
       "  <thead>\n",
       "    <tr style=\"text-align: right;\">\n",
       "      <th></th>\n",
       "      <th>avg_Atomic_Number</th>\n",
       "      <th>avg_Atomic_Weight</th>\n",
       "      <th>avg_Period</th>\n",
       "      <th>avg_group</th>\n",
       "      <th>avg_families</th>\n",
       "      <th>avg_Metal</th>\n",
       "      <th>avg_Nonmetal</th>\n",
       "      <th>avg_Metalliod</th>\n",
       "      <th>avg_Mendeleev_Number</th>\n",
       "      <th>avg_l_quantum_number</th>\n",
       "      <th>...</th>\n",
       "      <th>mode_polarizability(A^3)</th>\n",
       "      <th>mode_Melting_point_(K)</th>\n",
       "      <th>mode_Boiling_Point_(K)</th>\n",
       "      <th>mode_Density_(g/mL)</th>\n",
       "      <th>mode_specific_heat_(J/g_K)_</th>\n",
       "      <th>mode_heat_of_fusion_(kJ/mol)_</th>\n",
       "      <th>mode_heat_of_vaporization_(kJ/mol)_</th>\n",
       "      <th>mode_thermal_conductivity_(W/(m_K))_</th>\n",
       "      <th>mode_heat_atomization(kJ/mol)</th>\n",
       "      <th>mode_Cohesive_energy</th>\n",
       "    </tr>\n",
       "  </thead>\n",
       "  <tbody>\n",
       "    <tr>\n",
       "      <th>0</th>\n",
       "      <td>10.0</td>\n",
       "      <td>22.298571</td>\n",
       "      <td>2.428571</td>\n",
       "      <td>11.714286</td>\n",
       "      <td>5.714286</td>\n",
       "      <td>0.142857</td>\n",
       "      <td>0.0</td>\n",
       "      <td>0.857143</td>\n",
       "      <td>68.0</td>\n",
       "      <td>1.142857</td>\n",
       "      <td>...</td>\n",
       "      <td>3.000</td>\n",
       "      <td>2352.15</td>\n",
       "      <td>4275.00</td>\n",
       "      <td>2.34000</td>\n",
       "      <td>1.020</td>\n",
       "      <td>50.20000</td>\n",
       "      <td>489.7000</td>\n",
       "      <td>27.00000</td>\n",
       "      <td>573.0</td>\n",
       "      <td>5.81</td>\n",
       "    </tr>\n",
       "    <tr>\n",
       "      <th>1</th>\n",
       "      <td>10.0</td>\n",
       "      <td>20.048250</td>\n",
       "      <td>2.500000</td>\n",
       "      <td>14.000000</td>\n",
       "      <td>6.500000</td>\n",
       "      <td>0.000000</td>\n",
       "      <td>1.0</td>\n",
       "      <td>0.000000</td>\n",
       "      <td>77.5</td>\n",
       "      <td>1.000000</td>\n",
       "      <td>...</td>\n",
       "      <td>1.800</td>\n",
       "      <td>1683.15</td>\n",
       "      <td>2628.15</td>\n",
       "      <td>2.25000</td>\n",
       "      <td>0.710</td>\n",
       "      <td>50.55000</td>\n",
       "      <td>355.8000</td>\n",
       "      <td>129.00000</td>\n",
       "      <td>452.0</td>\n",
       "      <td>4.63</td>\n",
       "    </tr>\n",
       "    <tr>\n",
       "      <th>2</th>\n",
       "      <td>48.4</td>\n",
       "      <td>117.784270</td>\n",
       "      <td>4.400000</td>\n",
       "      <td>13.200000</td>\n",
       "      <td>7.200000</td>\n",
       "      <td>0.200000</td>\n",
       "      <td>0.8</td>\n",
       "      <td>0.000000</td>\n",
       "      <td>92.2</td>\n",
       "      <td>0.800000</td>\n",
       "      <td>...</td>\n",
       "      <td>5.000</td>\n",
       "      <td>386.65</td>\n",
       "      <td>457.15</td>\n",
       "      <td>4.93000</td>\n",
       "      <td>0.214</td>\n",
       "      <td>7.82400</td>\n",
       "      <td>20.7520</td>\n",
       "      <td>0.44900</td>\n",
       "      <td>107.0</td>\n",
       "      <td>1.11</td>\n",
       "    </tr>\n",
       "    <tr>\n",
       "      <th>3</th>\n",
       "      <td>26.0</td>\n",
       "      <td>57.678350</td>\n",
       "      <td>3.500000</td>\n",
       "      <td>17.000000</td>\n",
       "      <td>8.000000</td>\n",
       "      <td>0.000000</td>\n",
       "      <td>1.0</td>\n",
       "      <td>0.000000</td>\n",
       "      <td>94.5</td>\n",
       "      <td>1.000000</td>\n",
       "      <td>...</td>\n",
       "      <td>2.200</td>\n",
       "      <td>172.15</td>\n",
       "      <td>238.55</td>\n",
       "      <td>0.00321</td>\n",
       "      <td>0.473</td>\n",
       "      <td>3.23000</td>\n",
       "      <td>10.2000</td>\n",
       "      <td>0.00890</td>\n",
       "      <td>112.0</td>\n",
       "      <td>1.22</td>\n",
       "    </tr>\n",
       "    <tr>\n",
       "      <th>4</th>\n",
       "      <td>22.6</td>\n",
       "      <td>51.162040</td>\n",
       "      <td>3.200000</td>\n",
       "      <td>11.800000</td>\n",
       "      <td>5.600000</td>\n",
       "      <td>0.400000</td>\n",
       "      <td>0.6</td>\n",
       "      <td>0.000000</td>\n",
       "      <td>68.2</td>\n",
       "      <td>1.600000</td>\n",
       "      <td>...</td>\n",
       "      <td>0.793</td>\n",
       "      <td>54.75</td>\n",
       "      <td>90.15</td>\n",
       "      <td>0.00143</td>\n",
       "      <td>0.920</td>\n",
       "      <td>0.22259</td>\n",
       "      <td>3.4099</td>\n",
       "      <td>0.02674</td>\n",
       "      <td>249.0</td>\n",
       "      <td>2.62</td>\n",
       "    </tr>\n",
       "  </tbody>\n",
       "</table>\n",
       "<p>5 rows × 264 columns</p>\n",
       "</div>"
      ],
      "text/plain": [
       "   avg_Atomic_Number  avg_Atomic_Weight  avg_Period  avg_group  avg_families  \\\n",
       "0               10.0          22.298571    2.428571  11.714286      5.714286   \n",
       "1               10.0          20.048250    2.500000  14.000000      6.500000   \n",
       "2               48.4         117.784270    4.400000  13.200000      7.200000   \n",
       "3               26.0          57.678350    3.500000  17.000000      8.000000   \n",
       "4               22.6          51.162040    3.200000  11.800000      5.600000   \n",
       "\n",
       "   avg_Metal  avg_Nonmetal  avg_Metalliod  avg_Mendeleev_Number  \\\n",
       "0   0.142857           0.0       0.857143                  68.0   \n",
       "1   0.000000           1.0       0.000000                  77.5   \n",
       "2   0.200000           0.8       0.000000                  92.2   \n",
       "3   0.000000           1.0       0.000000                  94.5   \n",
       "4   0.400000           0.6       0.000000                  68.2   \n",
       "\n",
       "   avg_l_quantum_number  ...  mode_polarizability(A^3)  \\\n",
       "0              1.142857  ...                     3.000   \n",
       "1              1.000000  ...                     1.800   \n",
       "2              0.800000  ...                     5.000   \n",
       "3              1.000000  ...                     2.200   \n",
       "4              1.600000  ...                     0.793   \n",
       "\n",
       "   mode_Melting_point_(K)  mode_Boiling_Point_(K)  mode_Density_(g/mL)  \\\n",
       "0                 2352.15                 4275.00              2.34000   \n",
       "1                 1683.15                 2628.15              2.25000   \n",
       "2                  386.65                  457.15              4.93000   \n",
       "3                  172.15                  238.55              0.00321   \n",
       "4                   54.75                   90.15              0.00143   \n",
       "\n",
       "   mode_specific_heat_(J/g_K)_  mode_heat_of_fusion_(kJ/mol)_  \\\n",
       "0                        1.020                       50.20000   \n",
       "1                        0.710                       50.55000   \n",
       "2                        0.214                        7.82400   \n",
       "3                        0.473                        3.23000   \n",
       "4                        0.920                        0.22259   \n",
       "\n",
       "   mode_heat_of_vaporization_(kJ/mol)_  mode_thermal_conductivity_(W/(m_K))_  \\\n",
       "0                             489.7000                              27.00000   \n",
       "1                             355.8000                             129.00000   \n",
       "2                              20.7520                               0.44900   \n",
       "3                              10.2000                               0.00890   \n",
       "4                               3.4099                               0.02674   \n",
       "\n",
       "   mode_heat_atomization(kJ/mol)  mode_Cohesive_energy  \n",
       "0                          573.0                  5.81  \n",
       "1                          452.0                  4.63  \n",
       "2                          107.0                  1.11  \n",
       "3                          112.0                  1.22  \n",
       "4                          249.0                  2.62  \n",
       "\n",
       "[5 rows x 264 columns]"
      ]
     },
     "execution_count": 8,
     "metadata": {},
     "output_type": "execute_result"
    }
   ],
   "source": [
    "print(X.shape)\n",
    "X.head()"
   ]
  },
  {
   "cell_type": "markdown",
   "id": "03ae2319",
   "metadata": {},
   "source": [
    "### Splitting Dataset"
   ]
  },
  {
   "cell_type": "code",
   "execution_count": 9,
   "id": "c2dd1736",
   "metadata": {},
   "outputs": [],
   "source": [
    "X_train, X_test, y_train, y_test = train_test_split(X, y, test_size = 0.2, random_state = 69)"
   ]
  },
  {
   "cell_type": "markdown",
   "id": "fdd84b0a",
   "metadata": {},
   "source": [
    "### Scaling"
   ]
  },
  {
   "cell_type": "code",
   "execution_count": 10,
   "id": "308fbf61",
   "metadata": {},
   "outputs": [
    {
     "data": {
      "text/plain": [
       "array([[-0.10138164, -0.14334822,  0.37363845, ..., -0.16616839,\n",
       "         0.92146077,  0.89690506],\n",
       "       [-0.84328393, -0.82958745, -0.70650049, ..., -0.41574764,\n",
       "         1.68313205,  1.64192815],\n",
       "       [-0.86612575, -0.84819863, -0.79726847, ..., -0.41573561,\n",
       "        -0.11280865, -0.03802588],\n",
       "       ...,\n",
       "       [-1.01596808, -0.97411948, -1.00830402, ...,  0.92397921,\n",
       "        -0.81835679, -0.76113653],\n",
       "       [-0.27534494, -0.27859771, -0.19819981, ..., -0.41573561,\n",
       "        -0.11280865, -0.03802588],\n",
       "       [ 0.4906783 ,  0.54634019,  0.29194727, ..., -0.41574764,\n",
       "         1.68313205,  1.64192815]])"
      ]
     },
     "execution_count": 10,
     "metadata": {},
     "output_type": "execute_result"
    }
   ],
   "source": [
    "sc = StandardScaler()\n",
    "sc.fit_transform(X_train, y_train)\n",
    "sc.transform(X_test)"
   ]
  },
  {
   "cell_type": "code",
   "execution_count": 11,
   "id": "73e35315",
   "metadata": {},
   "outputs": [],
   "source": [
    "r2_values = []\n",
    "mae = []"
   ]
  },
  {
   "cell_type": "markdown",
   "id": "6a490cbb",
   "metadata": {},
   "source": [
    "### Linear Regression"
   ]
  },
  {
   "cell_type": "code",
   "execution_count": 12,
   "id": "30ffccc9",
   "metadata": {},
   "outputs": [
    {
     "data": {
      "text/plain": [
       "LinearRegression()"
      ]
     },
     "execution_count": 12,
     "metadata": {},
     "output_type": "execute_result"
    }
   ],
   "source": [
    "lr = LinearRegression()\n",
    "lr.fit(X_train, y_train)"
   ]
  },
  {
   "cell_type": "code",
   "execution_count": 13,
   "id": "c8e6b959",
   "metadata": {},
   "outputs": [],
   "source": [
    "y_pred_lr = lr.predict(X_test)"
   ]
  },
  {
   "cell_type": "code",
   "execution_count": 14,
   "id": "61561820",
   "metadata": {},
   "outputs": [
    {
     "data": {
      "text/plain": [
       "0.4693513605977281"
      ]
     },
     "execution_count": 14,
     "metadata": {},
     "output_type": "execute_result"
    }
   ],
   "source": [
    "r2_values.append(r2_score(y_test, y_pred_lr))\n",
    "r2_score(y_test, y_pred_lr)"
   ]
  },
  {
   "cell_type": "code",
   "execution_count": 15,
   "id": "31d6293a",
   "metadata": {},
   "outputs": [
    {
     "data": {
      "text/plain": [
       "0.8185539982487382"
      ]
     },
     "execution_count": 15,
     "metadata": {},
     "output_type": "execute_result"
    }
   ],
   "source": [
    "mae.append(mean_absolute_error(y_test, y_pred_lr))\n",
    "mean_absolute_error(y_test, y_pred_lr)"
   ]
  },
  {
   "cell_type": "code",
   "execution_count": 16,
   "id": "857e818c",
   "metadata": {},
   "outputs": [
    {
     "data": {
      "text/plain": [
       "1.2233630486570637"
      ]
     },
     "execution_count": 16,
     "metadata": {},
     "output_type": "execute_result"
    }
   ],
   "source": [
    "mean_squared_error(y_test, y_pred_lr)"
   ]
  },
  {
   "cell_type": "code",
   "execution_count": 25,
   "id": "8f4af5ed",
   "metadata": {},
   "outputs": [
    {
     "name": "stderr",
     "output_type": "stream",
     "text": [
      "C:\\Users\\ROHIT MALAWAT\\anaconda3\\lib\\site-packages\\seaborn\\_decorators.py:36: FutureWarning: Pass the following variables as keyword args: x, y. From version 0.12, the only valid positional argument will be `data`, and passing other arguments without an explicit keyword will result in an error or misinterpretation.\n",
      "  warnings.warn(\n"
     ]
    },
    {
     "data": {
      "image/png": "[encoded data removed]",
      "text/plain": [
       "<Figure size 432x288 with 1 Axes>"
      ]
     },
     "metadata": {
      "needs_background": "light"
     },
     "output_type": "display_data"
    }
   ],
   "source": [
    "sns.regplot(y_test, y_pred_lr,line_kws={\"color\": \"black\"})\n",
    "plt.plot([0,1,5],[0,1,5],linestyle = '--',color = 'r')#to plot y=x\n",
    "plt.xlabel('True Value')\n",
    "plt.ylabel('Predicted Value')\n",
    "plt.title('Actual vs Predicted')\n",
    "plt.show()"
   ]
  },
  {
   "cell_type": "markdown",
   "id": "be323a5d",
   "metadata": {},
   "source": [
    "### Random Forest Regression"
   ]
  },
  {
   "cell_type": "code",
   "execution_count": 20,
   "id": "d0495af0",
   "metadata": {},
   "outputs": [
    {
     "data": {
      "text/plain": [
       "RandomForestRegressor(n_estimators=10)"
      ]
     },
     "execution_count": 20,
     "metadata": {},
     "output_type": "execute_result"
    }
   ],
   "source": [
    "rfr = RandomForestRegressor(n_estimators = 10)\n",
    "rfr.fit(X_train, y_train)"
   ]
  },
  {
   "cell_type": "code",
   "execution_count": 21,
   "id": "2fa00d8b",
   "metadata": {},
   "outputs": [],
   "source": [
    "y_pred_rfr = rfr.predict(X_test)"
   ]
  },
  {
   "cell_type": "code",
   "execution_count": 22,
   "id": "4ea0b70b",
   "metadata": {},
   "outputs": [
    {
     "data": {
      "text/plain": [
       "0.7552925211632628"
      ]
     },
     "execution_count": 22,
     "metadata": {},
     "output_type": "execute_result"
    }
   ],
   "source": [
    "r2_values.append(r2_score(y_test, y_pred_rfr))\n",
    "r2_score(y_test, y_pred_rfr)"
   ]
  },
  {
   "cell_type": "code",
   "execution_count": 23,
   "id": "d22ae06c",
   "metadata": {},
   "outputs": [
    {
     "data": {
      "text/plain": [
       "0.42042612092786047"
      ]
     },
     "execution_count": 23,
     "metadata": {},
     "output_type": "execute_result"
    }
   ],
   "source": [
    "mae.append(mean_absolute_error(y_test, y_pred_rfr))\n",
    "mean_absolute_error(y_test, y_pred_rfr)"
   ]
  },
  {
   "cell_type": "code",
   "execution_count": 24,
   "id": "5632171c",
   "metadata": {},
   "outputs": [
    {
     "data": {
      "text/plain": [
       "0.5641512388990646"
      ]
     },
     "execution_count": 24,
     "metadata": {},
     "output_type": "execute_result"
    }
   ],
   "source": [
    "mean_squared_error(y_test, y_pred_rfr)"
   ]
  },
  {
   "cell_type": "code",
   "execution_count": 26,
   "id": "96416790",
   "metadata": {},
   "outputs": [
    {
     "name": "stderr",
     "output_type": "stream",
     "text": [
      "C:\\Users\\ROHIT MALAWAT\\anaconda3\\lib\\site-packages\\seaborn\\_decorators.py:36: FutureWarning: Pass the following variables as keyword args: x, y. From version 0.12, the only valid positional argument will be `data`, and passing other arguments without an explicit keyword will result in an error or misinterpretation.\n",
      "  warnings.warn(\n"
     ]
    },
    {
     "data": {
      "image/png": "[encoded data removed]",
      "text/plain": [
       "<Figure size 432x288 with 1 Axes>"
      ]
     },
     "metadata": {
      "needs_background": "light"
     },
     "output_type": "display_data"
    }
   ],
   "source": [
    "sns.regplot(y_test, y_pred_rfr, line_kws={\"color\": \"black\"})\n",
    "plt.plot([0,1,5],[0,1,5],linestyle = '--',color = 'r')\n",
    "plt.xlabel('True Value')\n",
    "plt.ylabel('Predicted Value')\n",
    "plt.title('Actual vs Predicted')\n",
    "plt.show()"
   ]
  },
  {
   "cell_type": "markdown",
   "id": "70197f92",
   "metadata": {},
   "source": [
    "### Lasso Regression"
   ]
  },
  {
   "cell_type": "code",
   "execution_count": 27,
   "id": "1a601676",
   "metadata": {},
   "outputs": [
    {
     "name": "stderr",
     "output_type": "stream",
     "text": [
      "C:\\Users\\ROHIT MALAWAT\\anaconda3\\lib\\site-packages\\sklearn\\linear_model\\_coordinate_descent.py:647: ConvergenceWarning: Objective did not converge. You might want to increase the number of iterations, check the scale of the features or consider increasing regularisation. Duality gap: 1.641e+03, tolerance: 2.361e+01\n",
      "  model = cd_fast.enet_coordinate_descent(\n"
     ]
    },
    {
     "data": {
      "text/plain": [
       "Lasso(alpha=0.1, random_state=69)"
      ]
     },
     "execution_count": 27,
     "metadata": {},
     "output_type": "execute_result"
    }
   ],
   "source": [
    "las = Lasso(alpha = 0.1, random_state = 69)\n",
    "las.fit(X_train, y_train)"
   ]
  },
  {
   "cell_type": "code",
   "execution_count": 28,
   "id": "0b1768ee",
   "metadata": {},
   "outputs": [],
   "source": [
    "y_pred_las = las.predict(X_test)"
   ]
  },
  {
   "cell_type": "code",
   "execution_count": 29,
   "id": "617e4e81",
   "metadata": {},
   "outputs": [
    {
     "data": {
      "text/plain": [
       "0.39121016772650086"
      ]
     },
     "execution_count": 29,
     "metadata": {},
     "output_type": "execute_result"
    }
   ],
   "source": [
    "r2_values.append(r2_score(y_test, y_pred_las))\n",
    "r2_score(y_test, y_pred_las)"
   ]
  },
  {
   "cell_type": "code",
   "execution_count": 30,
   "id": "46801c6a",
   "metadata": {},
   "outputs": [
    {
     "data": {
      "text/plain": [
       "0.8988911258157338"
      ]
     },
     "execution_count": 30,
     "metadata": {},
     "output_type": "execute_result"
    }
   ],
   "source": [
    "mae.append(mean_absolute_error(y_test, y_pred_las))\n",
    "mean_absolute_error(y_test, y_pred_las)"
   ]
  },
  {
   "cell_type": "code",
   "execution_count": 31,
   "id": "f7227383",
   "metadata": {},
   "outputs": [
    {
     "data": {
      "text/plain": [
       "1.4035105904359768"
      ]
     },
     "execution_count": 31,
     "metadata": {},
     "output_type": "execute_result"
    }
   ],
   "source": [
    "mean_squared_error(y_test, y_pred_las)"
   ]
  },
  {
   "cell_type": "code",
   "execution_count": 32,
   "id": "ed4418a1",
   "metadata": {},
   "outputs": [
    {
     "name": "stderr",
     "output_type": "stream",
     "text": [
      "C:\\Users\\ROHIT MALAWAT\\anaconda3\\lib\\site-packages\\seaborn\\_decorators.py:36: FutureWarning: Pass the following variables as keyword args: x, y. From version 0.12, the only valid positional argument will be `data`, and passing other arguments without an explicit keyword will result in an error or misinterpretation.\n",
      "  warnings.warn(\n"
     ]
    },
    {
     "data": {
      "image/png": "[encoded data removed]",
      "text/plain": [
       "<Figure size 432x288 with 1 Axes>"
      ]
     },
     "metadata": {
      "needs_background": "light"
     },
     "output_type": "display_data"
    }
   ],
   "source": [
    "sns.regplot(y_test, y_pred_las, line_kws={\"color\": \"black\"})\n",
    "plt.plot([0,1,5],[0,1,5],linestyle = '--',color = 'r')\n",
    "plt.xlabel('True Value')\n",
    "plt.ylabel('Predicted Value')\n",
    "plt.title('Actual vs Predicted')\n",
    "plt.show()"
   ]
  },
  {
   "cell_type": "markdown",
   "id": "f3aef849",
   "metadata": {},
   "source": [
    "### Ridge Regression"
   ]
  },
  {
   "cell_type": "code",
   "execution_count": 33,
   "id": "0a3b7a2b",
   "metadata": {},
   "outputs": [
    {
     "data": {
      "text/plain": [
       "Ridge(random_state=69)"
      ]
     },
     "execution_count": 33,
     "metadata": {},
     "output_type": "execute_result"
    }
   ],
   "source": [
    "rid = Ridge(random_state = 69)\n",
    "rid.fit(X_train, y_train)"
   ]
  },
  {
   "cell_type": "code",
   "execution_count": 34,
   "id": "b349c95c",
   "metadata": {},
   "outputs": [],
   "source": [
    "y_pred_rid = rid.predict(X_test)"
   ]
  },
  {
   "cell_type": "code",
   "execution_count": 35,
   "id": "e6b36846",
   "metadata": {},
   "outputs": [
    {
     "data": {
      "text/plain": [
       "0.46923486630452704"
      ]
     },
     "execution_count": 35,
     "metadata": {},
     "output_type": "execute_result"
    }
   ],
   "source": [
    "r2_values.append(r2_score(y_test, y_pred_rid))\n",
    "r2_score(y_test, y_pred_rid)"
   ]
  },
  {
   "cell_type": "code",
   "execution_count": 36,
   "id": "09faa444",
   "metadata": {},
   "outputs": [
    {
     "data": {
      "text/plain": [
       "0.8184301683880489"
      ]
     },
     "execution_count": 36,
     "metadata": {},
     "output_type": "execute_result"
    }
   ],
   "source": [
    "mae.append(mean_absolute_error(y_test, y_pred_rid))\n",
    "mean_absolute_error(y_test, y_pred_rid)"
   ]
  },
  {
   "cell_type": "code",
   "execution_count": 37,
   "id": "97c0e5d2",
   "metadata": {},
   "outputs": [
    {
     "data": {
      "text/plain": [
       "1.2236316158465361"
      ]
     },
     "execution_count": 37,
     "metadata": {},
     "output_type": "execute_result"
    }
   ],
   "source": [
    "mean_squared_error(y_test, y_pred_rid)"
   ]
  },
  {
   "cell_type": "code",
   "execution_count": 38,
   "id": "3a198030",
   "metadata": {},
   "outputs": [
    {
     "name": "stderr",
     "output_type": "stream",
     "text": [
      "C:\\Users\\ROHIT MALAWAT\\anaconda3\\lib\\site-packages\\seaborn\\_decorators.py:36: FutureWarning: Pass the following variables as keyword args: x, y. From version 0.12, the only valid positional argument will be `data`, and passing other arguments without an explicit keyword will result in an error or misinterpretation.\n",
      "  warnings.warn(\n"
     ]
    },
    {
     "data": {
      "image/png": "[encoded data removed]",
      "text/plain": [
       "<Figure size 432x288 with 1 Axes>"
      ]
     },
     "metadata": {
      "needs_background": "light"
     },
     "output_type": "display_data"
    }
   ],
   "source": [
    "sns.regplot(y_test, y_pred_rid, line_kws={\"color\": \"black\"})\n",
    "plt.plot([0,1,5],[0,1,5],linestyle = '--',color = 'r')\n",
    "plt.xlabel('True Value')\n",
    "plt.ylabel('Predicted Value')\n",
    "plt.title('Actual vs Predicted')\n",
    "plt.show()"
   ]
  },
  {
   "cell_type": "markdown",
   "id": "9327517c",
   "metadata": {},
   "source": [
    "### Gradient Boosting Regression"
   ]
  },
  {
   "cell_type": "code",
   "execution_count": 40,
   "id": "5036370c",
   "metadata": {},
   "outputs": [
    {
     "data": {
      "text/plain": [
       "GradientBoostingRegressor(n_estimators=10)"
      ]
     },
     "execution_count": 40,
     "metadata": {},
     "output_type": "execute_result"
    }
   ],
   "source": [
    "gbr = GradientBoostingRegressor(n_estimators = 10)\n",
    "gbr.fit(X_train, y_train)"
   ]
  },
  {
   "cell_type": "code",
   "execution_count": 41,
   "id": "8d70976a",
   "metadata": {},
   "outputs": [],
   "source": [
    "y_pred_gbr = gbr.predict(X_test)"
   ]
  },
  {
   "cell_type": "code",
   "execution_count": 42,
   "id": "57eb49f5",
   "metadata": {},
   "outputs": [
    {
     "data": {
      "text/plain": [
       "0.38593441793383154"
      ]
     },
     "execution_count": 42,
     "metadata": {},
     "output_type": "execute_result"
    }
   ],
   "source": [
    "r2_values.append(r2_score(y_test, y_pred_gbr))\n",
    "r2_score(y_test, y_pred_gbr)"
   ]
  },
  {
   "cell_type": "code",
   "execution_count": 43,
   "id": "356f9783",
   "metadata": {},
   "outputs": [
    {
     "data": {
      "text/plain": [
       "0.9266739048740466"
      ]
     },
     "execution_count": 43,
     "metadata": {},
     "output_type": "execute_result"
    }
   ],
   "source": [
    "mae.append(mean_absolute_error(y_test, y_pred_gbr))\n",
    "mean_absolute_error(y_test, y_pred_gbr)"
   ]
  },
  {
   "cell_type": "code",
   "execution_count": 44,
   "id": "1361e4ef",
   "metadata": {},
   "outputs": [
    {
     "data": {
      "text/plain": [
       "1.415673360433054"
      ]
     },
     "execution_count": 44,
     "metadata": {},
     "output_type": "execute_result"
    }
   ],
   "source": [
    "mean_squared_error(y_test, y_pred_gbr)"
   ]
  },
  {
   "cell_type": "code",
   "execution_count": 45,
   "id": "8a59bc7d",
   "metadata": {},
   "outputs": [
    {
     "name": "stderr",
     "output_type": "stream",
     "text": [
      "C:\\Users\\ROHIT MALAWAT\\anaconda3\\lib\\site-packages\\seaborn\\_decorators.py:36: FutureWarning: Pass the following variables as keyword args: x, y. From version 0.12, the only valid positional argument will be `data`, and passing other arguments without an explicit keyword will result in an error or misinterpretation.\n",
      "  warnings.warn(\n"
     ]
    },
    {
     "data": {
      "image/png": "[encoded data removed]",
      "text/plain": [
       "<Figure size 432x288 with 1 Axes>"
      ]
     },
     "metadata": {
      "needs_background": "light"
     },
     "output_type": "display_data"
    }
   ],
   "source": [
    "sns.regplot(y_test, y_pred_gbr, line_kws={\"color\": \"black\"})\n",
    "plt.plot([0,1,5],[0,1,5],linestyle = '--',color = 'r')\n",
    "plt.xlabel('True Value')\n",
    "plt.ylabel('Predicted Value')\n",
    "plt.title('Actual vs Predicted')\n",
    "plt.show()"
   ]
  },
  {
   "cell_type": "markdown",
   "id": "7c7f6979",
   "metadata": {},
   "source": [
    "### R2 Values Comparison"
   ]
  },
  {
   "cell_type": "code",
   "execution_count": 41,
   "id": "7fb3bf06",
   "metadata": {},
   "outputs": [],
   "source": [
    "labels = ['Linear','RFR','Lasso','Ridge','GBR']"
   ]
  },
  {
   "cell_type": "code",
   "execution_count": 48,
   "id": "eef413d9",
   "metadata": {},
   "outputs": [
    {
     "data": {
      "image/png": "[encoded data removed]",
      "text/plain": [
       "<Figure size 432x288 with 1 Axes>"
      ]
     },
     "metadata": {
      "needs_background": "light"
     },
     "output_type": "display_data"
    }
   ],
   "source": [
    "plt.bar(labels, r2_values)\n",
    "plt.xlabel('Models')\n",
    "plt.ylabel('R-square')\n",
    "plt.title('R-square Values of Models')\n",
    "plt.show()"
   ]
  },
  {
   "cell_type": "markdown",
   "id": "baa2e199",
   "metadata": {},
   "source": [
    "### Mean Absolute Error Comparison"
   ]
  },
  {
   "cell_type": "code",
   "execution_count": 47,
   "id": "ce26224c",
   "metadata": {},
   "outputs": [
    {
     "data": {
      "image/png": "[encoded data removed]",
      "text/plain": [
       "<Figure size 432x288 with 1 Axes>"
      ]
     },
     "metadata": {
      "needs_background": "light"
     },
     "output_type": "display_data"
    }
   ],
   "source": [
    "plt.bar(labels, mae)\n",
    "plt.xlabel('Models')\n",
    "plt.ylabel('MAE')\n",
    "plt.title('Mean Absolute Error of Models')\n",
    "plt.show()"
   ]
  }
 ],
 "metadata": {
  "kernelspec": {
   "display_name": "Python 3 (ipykernel)",
   "language": "python",
   "name": "python3"
  },
  "language_info": {
   "codemirror_mode": {
    "name": "ipython",
    "version": 3
   },
   "file_extension": ".py",
   "mimetype": "text/x-python",
   "name": "python",
   "nbconvert_exporter": "python",
   "pygments_lexer": "ipython3",
   "version": "3.10.6"
  }
 },
 "nbformat": 4,
 "nbformat_minor": 5
}
